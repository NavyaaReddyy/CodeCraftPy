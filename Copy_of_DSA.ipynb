{
  "nbformat": 4,
  "nbformat_minor": 0,
  "metadata": {
    "colab": {
      "provenance": [],
      "authorship_tag": "ABX9TyOaHZItYAvp2C8FcS1xuFEQ"
    },
    "kernelspec": {
      "name": "python3",
      "display_name": "Python 3"
    },
    "language_info": {
      "name": "python"
    }
  },
  "cells": [
    {
      "cell_type": "code",
      "execution_count": 7,
      "metadata": {
        "id": "wDkg5KVT4TSp",
        "colab": {
          "base_uri": "https://localhost:8080/"
        },
        "outputId": "b32b84ff-ff2a-4c94-9a47-0c84524bfaa2"
      },
      "outputs": [
        {
          "output_type": "stream",
          "name": "stdout",
          "text": [
            "  * \n",
            " * * \n",
            "* * * \n"
          ]
        }
      ],
      "source": [
        "def print_pyramid(N):\n",
        "    for i in range(1, N + 1):\n",
        "        # Print leading spaces\n",
        "        print(\" \" * (N - i), end=\"\")\n",
        "        # Print stars\n",
        "        print(\"* \" * i)\n",
        "\n",
        "# Example usage:\n",
        "N = 3\n",
        "print_pyramid(N)\n"
      ]
    },
    {
      "cell_type": "code",
      "source": [],
      "metadata": {
        "id": "GEJPkww55qkG"
      },
      "execution_count": null,
      "outputs": []
    }
  ]
}