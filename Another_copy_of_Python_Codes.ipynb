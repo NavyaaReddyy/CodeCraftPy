{
  "nbformat": 4,
  "nbformat_minor": 0,
  "metadata": {
    "colab": {
      "provenance": []
    },
    "kernelspec": {
      "name": "python3",
      "display_name": "Python 3"
    },
    "language_info": {
      "name": "python"
    }
  },
  "cells": [
    {
      "cell_type": "code",
      "execution_count": 10,
      "metadata": {
        "id": "Yw6zboZddj8e",
        "colab": {
          "base_uri": "https://localhost:8080/"
        },
        "outputId": "a4b6c0f6-3777-4585-8c19-7dea679aa858"
      },
      "outputs": [
        {
          "output_type": "stream",
          "name": "stdout",
          "text": [
            "Enter the size of the square: 9\n",
            "\n",
            "1 \n",
            "2 2 \n",
            "3 3 3 \n",
            "4 4 4 4 \n",
            "5 5 5 5 5 \n",
            "6 6 6 6 6 6 \n",
            "7 7 7 7 7 7 7 \n",
            "8 8 8 8 8 8 8 8 \n"
          ]
        }
      ],
      "source": [
        "#Python codes\n",
        "#Pattern\n",
        "def print_square(size):\n",
        "    for i in range(size): #for rows\n",
        "        for j in range(i): #for Columns\n",
        "            print(i, end=\" \")\n",
        "        print()\n",
        "\n",
        "# Test the function with different sizes\n",
        "size = int(input(\"Enter the size of the square: \"))\n",
        "print_square(size)\n",
        "\n",
        "\n"
      ]
    },
    {
      "cell_type": "code",
      "source": [],
      "metadata": {
        "id": "uOT7HLD9fbPQ"
      },
      "execution_count": null,
      "outputs": []
    }
  ]
}