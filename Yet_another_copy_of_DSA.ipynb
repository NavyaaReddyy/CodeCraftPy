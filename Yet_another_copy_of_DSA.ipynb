{
  "nbformat": 4,
  "nbformat_minor": 0,
  "metadata": {
    "colab": {
      "provenance": [],
      "authorship_tag": "ABX9TyMknlrEZeKtz3/YjYw99MMb"
    },
    "kernelspec": {
      "name": "python3",
      "display_name": "Python 3"
    },
    "language_info": {
      "name": "python"
    }
  },
  "cells": [
    {
      "cell_type": "code",
      "execution_count": null,
      "metadata": {
        "id": "wDkg5KVT4TSp",
        "colab": {
          "base_uri": "https://localhost:8080/"
        },
        "outputId": "b32b84ff-ff2a-4c94-9a47-0c84524bfaa2"
      },
      "outputs": [
        {
          "output_type": "stream",
          "name": "stdout",
          "text": [
            "  * \n",
            " * * \n",
            "* * * \n"
          ]
        }
      ],
      "source": [
        "def print_pyramid(N):\n",
        "    for i in range(1, N + 1):\n",
        "        # Print leading spaces\n",
        "        print(\" \" * (N - i), end=\"\")\n",
        "        # Print stars\n",
        "        print(\"* \" * i)\n",
        "\n",
        "# Example usage:\n",
        "N = 3\n",
        "print_pyramid(N)\n"
      ]
    },
    {
      "cell_type": "markdown",
      "source": [
        "LOOPS : \"For loop\" It has a potential  to iterate over the items present in a sequence, such as lists, tuples, dictionaries or strings."
      ],
      "metadata": {
        "id": "kebt70lmjs4O"
      }
    },
    {
      "cell_type": "markdown",
      "source": [
        "A for loop uses **range()** function to iterate for a specific amount of time."
      ],
      "metadata": {
        "id": "KC_m02makNvc"
      }
    },
    {
      "cell_type": "markdown",
      "source": [
        "**Syntax of a For Loop**\n",
        "\n",
        "Syntax:\n",
        "\n",
        "for **iterator_variable** in **sequence**:\n",
        "\n",
        "          statement(s)\n",
        "\n",
        "Rest of thr code"
      ],
      "metadata": {
        "id": "jVjPaWd9lFU3"
      }
    },
    {
      "cell_type": "code",
      "source": [
        "s = 'simplilearn'\n",
        "for i in s:\n",
        "  print(i)"
      ],
      "metadata": {
        "colab": {
          "base_uri": "https://localhost:8080/"
        },
        "id": "7INRKx8qmaPE",
        "outputId": "b33ded44-8449-44b2-89df-dbce671c2c5f"
      },
      "execution_count": null,
      "outputs": [
        {
          "output_type": "stream",
          "name": "stdout",
          "text": [
            "s\n",
            "i\n",
            "m\n",
            "p\n",
            "l\n",
            "i\n",
            "l\n",
            "e\n",
            "a\n",
            "r\n",
            "n\n"
          ]
        }
      ]
    },
    {
      "cell_type": "code",
      "source": [
        "s = 'Simplilearn'\n",
        "for i in s:\n",
        "  print(i, end=\"*\")"
      ],
      "metadata": {
        "colab": {
          "base_uri": "https://localhost:8080/"
        },
        "id": "Kekyoj4jmlb6",
        "outputId": "cc20eb41-870a-44a0-9fd8-2b4d5ea144e7"
      },
      "execution_count": null,
      "outputs": [
        {
          "output_type": "stream",
          "name": "stdout",
          "text": [
            "S*i*m*p*l*i*l*e*a*r*n*"
          ]
        }
      ]
    },
    {
      "cell_type": "code",
      "source": [
        "# Use of for loop in list\n",
        "programming = [\"Java\", \"python\", \"Ruby\", \"HTML\"]\n",
        "for iter in programming:\n",
        "  print(iter)"
      ],
      "metadata": {
        "colab": {
          "base_uri": "https://localhost:8080/"
        },
        "id": "M_8o0R_cm2Rr",
        "outputId": "8f58e14d-69ea-455c-8432-b333e8c98eab"
      },
      "execution_count": null,
      "outputs": [
        {
          "output_type": "stream",
          "name": "stdout",
          "text": [
            "Java\n",
            "python\n",
            "Ruby\n",
            "HTML\n"
          ]
        }
      ]
    },
    {
      "cell_type": "code",
      "source": [
        "list_num = [20,24,45,10,50]\n",
        "sum = 0\n",
        "for i in list_num:\n",
        "    sum = sum + i\n",
        "print(\"Sum =\", sum)\n",
        "print(\"Average =\", sum/len(list_num))\n"
      ],
      "metadata": {
        "colab": {
          "base_uri": "https://localhost:8080/"
        },
        "id": "9d-iPuVznMUr",
        "outputId": "e3c082a7-82d9-4cb8-decc-891f12ee19ac"
      },
      "execution_count": null,
      "outputs": [
        {
          "output_type": "stream",
          "name": "stdout",
          "text": [
            "Sum = 149\n",
            "Average = 29.8\n"
          ]
        }
      ]
    },
    {
      "cell_type": "code",
      "source": [
        "# For loop using tuple\n",
        "num = (30, 45, 60, 50, 70)\n",
        "sum = 0\n",
        "for i in num:\n",
        "  sum = sum + i\n",
        "print(sum)\n"
      ],
      "metadata": {
        "colab": {
          "base_uri": "https://localhost:8080/"
        },
        "id": "aglmiwutn15l",
        "outputId": "13c42e4e-4f41-4d22-f5c9-8a86482a9d7a"
      },
      "execution_count": null,
      "outputs": [
        {
          "output_type": "stream",
          "name": "stdout",
          "text": [
            "255\n"
          ]
        }
      ]
    },
    {
      "cell_type": "code",
      "source": [
        "# range function\n",
        "\n",
        "for i in range(1, 10):\n",
        "  print(i)"
      ],
      "metadata": {
        "colab": {
          "base_uri": "https://localhost:8080/"
        },
        "id": "X8h8NfySpKq7",
        "outputId": "c64c2b98-4bbf-4468-e1d7-b06233cf302a"
      },
      "execution_count": null,
      "outputs": [
        {
          "output_type": "stream",
          "name": "stdout",
          "text": [
            "1\n",
            "2\n",
            "3\n",
            "4\n",
            "5\n",
            "6\n",
            "7\n",
            "8\n",
            "9\n"
          ]
        }
      ]
    },
    {
      "cell_type": "code",
      "source": [
        "for i in range(0, 10, 2):\n",
        "  print(\"Diaplay value with step size of 2:\", i)"
      ],
      "metadata": {
        "colab": {
          "base_uri": "https://localhost:8080/"
        },
        "id": "MMN0XozXpXSX",
        "outputId": "6b185e6c-958e-47a8-dccc-700fbad6675d"
      },
      "execution_count": null,
      "outputs": [
        {
          "output_type": "stream",
          "name": "stdout",
          "text": [
            "Diaplay value with step size of 2: 0\n",
            "Diaplay value with step size of 2: 2\n",
            "Diaplay value with step size of 2: 4\n",
            "Diaplay value with step size of 2: 6\n",
            "Diaplay value with step size of 2: 8\n"
          ]
        }
      ]
    },
    {
      "cell_type": "code",
      "source": [
        "# program to print table of a given number\n",
        "n = int(input(\"ENter the number \"))\n",
        "for i in range(1,11):\n",
        "  mul = n*i\n",
        "  print(n, \"*\",i,\"=\",mul)"
      ],
      "metadata": {
        "colab": {
          "base_uri": "https://localhost:8080/"
        },
        "id": "yaO9BM9vp5JQ",
        "outputId": "36b6f145-255f-449e-cd1e-a68400d4e948"
      },
      "execution_count": null,
      "outputs": [
        {
          "output_type": "stream",
          "name": "stdout",
          "text": [
            "ENter the number 4\n",
            "4 * 1 = 4\n",
            "4 * 2 = 8\n",
            "4 * 3 = 12\n",
            "4 * 4 = 16\n",
            "4 * 5 = 20\n",
            "4 * 6 = 24\n",
            "4 * 7 = 28\n",
            "4 * 8 = 32\n",
            "4 * 9 = 36\n",
            "4 * 10 = 40\n"
          ]
        }
      ]
    },
    {
      "cell_type": "code",
      "source": [
        "#14:11"
      ],
      "metadata": {
        "id": "sgY0x2n1qinq"
      },
      "execution_count": null,
      "outputs": []
    }
  ]
}