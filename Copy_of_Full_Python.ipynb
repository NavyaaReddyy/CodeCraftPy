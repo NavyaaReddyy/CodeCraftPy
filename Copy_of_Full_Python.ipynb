{
  "nbformat": 4,
  "nbformat_minor": 0,
  "metadata": {
    "colab": {
      "provenance": []
    },
    "kernelspec": {
      "name": "python3",
      "display_name": "Python 3"
    },
    "language_info": {
      "name": "python"
    }
  },
  "cells": [
    {
      "cell_type": "code",
      "execution_count": null,
      "metadata": {
        "id": "I5JredHcFJLf"
      },
      "outputs": [],
      "source": [
        "# Bro Code"
      ]
    },
    {
      "cell_type": "markdown",
      "source": [
        "Python Variables and Datatypes"
      ],
      "metadata": {
        "id": "uInuOicFGTQ1"
      }
    },
    {
      "cell_type": "code",
      "source": [
        "# variable = a reusable container for storing a value\n",
        "#            a variable behaves as if it were the value it contains\n",
        "\n",
        "age = 23\n",
        "\n",
        "print(\"I am \" + str(age) + \" years\")\n",
        "print(\"I am\",age, \"years\")\n",
        "print(f\"I am {age} years\") # \"F-string\" we will be using a lot\n",
        "\n",
        "## Datatypes\n",
        "\n",
        "# Integer\n",
        "\n",
        "age = 21\n",
        "players = 2\n",
        "quantity = 5\n",
        "\n",
        "print(f\"you are {age} {players} years old\")\n",
        "\n",
        "# Float: contains demical considered as float\n",
        "\n",
        "gpa = 3.5\n",
        "distance = 2.5\n",
        "price = 10.99\n",
        "\n",
        "print(f\"your {gpa}\")\n",
        "print(f\"you ran {distance}km\")\n",
        "print(f\"The price is ${price}\")\n",
        "\n",
        "# String: A string is just a series of text.\n",
        "\n",
        "name = \"Navya\"\n",
        "food = \"Wendy's\"\n",
        "email = \"bro123@gmail.com\"\n",
        "\n",
        "print(f\"hello {name}\")\n",
        "print(f\"you like what {food}\")\n",
        "print(f\"The email is: {email}\")\n",
        "\n",
        "# Boolean: Yes or No, It is like binary\n",
        "# we cannot keep within quotes and first letter is capital\n",
        "online = True\n",
        "for_sale = False\n",
        "running = False\n",
        "\n",
        "print(f\"Are you online: {online}\")\n",
        "print(f\"Is the item for sale: {for_sale}\")\n",
        "print(f\"Game running: {running}\")\n",
        "\n",
        "if running:\n",
        "  print(\"The game id running\")\n",
        "else:\n",
        "  print(\"The game is over\")\n",
        "\n",
        "\n",
        "\n",
        "\n",
        "\n",
        "\n",
        "\n",
        "\n",
        "\n",
        "\n",
        "\n"
      ],
      "metadata": {
        "id": "OSz7TiWcGfUH"
      },
      "execution_count": null,
      "outputs": []
    },
    {
      "cell_type": "markdown",
      "source": [
        "TYPE CASTING IN PYTHON"
      ],
      "metadata": {
        "id": "rmHv_BhHIcnC"
      }
    },
    {
      "cell_type": "code",
      "source": [
        "# typecasting = The process of converting a value of one data type\n",
        "#               to another (string, integer, float, boolean)\n",
        "#               Explicit vs Implicit\n",
        "\n",
        "# Explicit Typecasting\n",
        "name = \"navya\"\n",
        "age = 23\n",
        "gpa = 3.5\n",
        "student = True\n",
        "\n",
        "# type(name)\n",
        "print(type(name))\n",
        "print(type(age))\n",
        "print(type(gpa))\n",
        "print(type(student))\n",
        "\n",
        "age = float(age)\n",
        "print(type(age))\n",
        "\n",
        "gpa = int(gpa)\n",
        "print(type(gpa))\n",
        "print(gpa)\n",
        "\n",
        "student = str(student)\n",
        "print(student)\n",
        "\n",
        "age = bool(age)\n",
        "print(age)\n",
        "\n",
        "# Implicit Typecasting\n",
        "\n",
        "x = 2\n",
        "y = 2.0\n",
        "\n",
        "x = x/y\n",
        "print(x)\n",
        "\n",
        "\n"
      ],
      "metadata": {
        "id": "_SfK6GcEIj2J"
      },
      "execution_count": null,
      "outputs": []
    },
    {
      "cell_type": "markdown",
      "source": [
        "USER INPUT"
      ],
      "metadata": {
        "id": "hL8294smRIyb"
      }
    },
    {
      "cell_type": "code",
      "source": [
        "name = input(\"Enter your name: \")\n",
        "print(f\"hello {name}\")\n",
        "age = int(input(\"Enter your age:\"))\n",
        "print(f\"YOU ARE {age} yrs old\")\n",
        "if age == 23:\n",
        "  print(\"Correct\")\n",
        "else:\n",
        "  print(\"Wrong\")\n",
        "\n",
        "# Define type in input section too, In conditions == defines total equal\n",
        "#  not = 2\n",
        "\n",
        "## Mad libs\n",
        "\n",
        "adjective1 = input(\"Enter an adjective:\")\n",
        "verb = input(\"Enter a verb:\")\n",
        "noun = input(\"Enter a noun\")\n",
        "\n",
        "\n",
        "print(f\"Today I went to a {adjective1} zoo\")\n",
        "print(f\"In an exhibit, I saw {noun}\")\n",
        "\n",
        "\n",
        "\n",
        "\n",
        "\n"
      ],
      "metadata": {
        "id": "KB0mhP6wROIl"
      },
      "execution_count": null,
      "outputs": []
    },
    {
      "cell_type": "code",
      "source": [
        "# Area Calculator\n",
        "\n",
        "length = float(input(\"Enter a length of a rectangle:\"))\n",
        "width = float(input(\"Enter the width of a rectangle:\"))\n",
        "\n",
        "area = length * width\n",
        "\n",
        "print(f\" The area is : {area}cm^2\")\n"
      ],
      "metadata": {
        "colab": {
          "base_uri": "https://localhost:8080/"
        },
        "id": "iKDIVDc0ikZ-",
        "outputId": "b8247d07-59c4-4782-8846-3108a73c4d21"
      },
      "execution_count": null,
      "outputs": [
        {
          "output_type": "stream",
          "name": "stdout",
          "text": [
            "Enter a length of a rectangle:125\n",
            "Enter the width of a rectangle:25\n",
            " The area is : 3125.0cm^2\n"
          ]
        }
      ]
    },
    {
      "cell_type": "code",
      "source": [
        "# Shopping calculator\n",
        "\n"
      ],
      "metadata": {
        "id": "S8_zSY7ToldM"
      },
      "execution_count": null,
      "outputs": []
    },
    {
      "cell_type": "markdown",
      "source": [
        "Math in python"
      ],
      "metadata": {
        "id": "J1j6kzWeof29"
      }
    },
    {
      "cell_type": "code",
      "source": [
        "friends = 0\n",
        "friends = friends + 1\n",
        "friends += 1\n",
        "\n",
        "print(friends)\n",
        "print(friends)"
      ],
      "metadata": {
        "id": "yz4MmQEAopQn",
        "colab": {
          "base_uri": "https://localhost:8080/"
        },
        "outputId": "d4d525ef-0bcb-4009-eff1-c95c8ea52ca1"
      },
      "execution_count": 1,
      "outputs": [
        {
          "output_type": "stream",
          "name": "stdout",
          "text": [
            "2\n",
            "2\n"
          ]
        }
      ]
    },
    {
      "cell_type": "markdown",
      "source": [],
      "metadata": {
        "id": "4I2prE4qod2M"
      }
    }
  ]
}