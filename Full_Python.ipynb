{
  "nbformat": 4,
  "nbformat_minor": 0,
  "metadata": {
    "colab": {
      "provenance": []
    },
    "kernelspec": {
      "name": "python3",
      "display_name": "Python 3"
    },
    "language_info": {
      "name": "python"
    }
  },
  "cells": [
    {
      "cell_type": "code",
      "execution_count": null,
      "metadata": {
        "id": "I5JredHcFJLf"
      },
      "outputs": [],
      "source": [
        "# Bro Code"
      ]
    },
    {
      "cell_type": "markdown",
      "source": [
        "Python Variables and Datatypes"
      ],
      "metadata": {
        "id": "uInuOicFGTQ1"
      }
    },
    {
      "cell_type": "code",
      "source": [
        "# variable = a reusable container for storing a value\n",
        "#            a variable behaves as if it were the value it contains\n",
        "\n",
        "age = 23\n",
        "\n",
        "print(\"I am \" + str(age) + \" years\")\n",
        "print(\"I am\",age, \"years\")\n",
        "print(f\"I am {age} years\") # \"F-string\" we will be using a lot\n",
        "\n",
        "## Datatypes\n",
        "\n",
        "# Integer 4:32\n",
        "\n",
        "\n",
        "\n"
      ],
      "metadata": {
        "colab": {
          "base_uri": "https://localhost:8080/"
        },
        "id": "OSz7TiWcGfUH",
        "outputId": "8500a772-929c-41be-cc41-ad925a43a58b"
      },
      "execution_count": null,
      "outputs": [
        {
          "output_type": "stream",
          "name": "stdout",
          "text": [
            "I am 23 years\n",
            "I am 23 years\n",
            "I am 23 years\n"
          ]
        }
      ]
    }
  ]
}